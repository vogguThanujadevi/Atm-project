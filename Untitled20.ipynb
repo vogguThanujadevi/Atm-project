{
  "metadata": {
    "kernelspec": {
      "name": "python",
      "display_name": "Python (Pyodide)",
      "language": "python"
    },
    "language_info": {
      "codemirror_mode": {
        "name": "python",
        "version": 3
      },
      "file_extension": ".py",
      "mimetype": "text/x-python",
      "name": "python",
      "nbconvert_exporter": "python",
      "pygments_lexer": "ipython3",
      "version": "3.8"
    }
  },
  "nbformat_minor": 5,
  "nbformat": 4,
  "cells": [
    {
      "id": "f232b00a-e6b7-437d-badb-c683e1f25bd1",
      "cell_type": "code",
      "source": "# Simple ATM System in Python with Output\n\nclass ATM:\n    def __init__(self, balance=1000):\n        self.balance = balance\n\n    def check_balance(self):\n        print(f\"\\n[INFO] Current Balance: ${self.balance:.2f}\")\n\n    def deposit(self, amount):\n        if amount <= 0:\n            print(\"[ERROR] Deposit amount must be positive.\")\n        else:\n            self.balance += amount\n            print(f\"[SUCCESS] Deposited: ${amount:.2f}\")\n\n    def withdraw(self, amount):\n        if amount <= 0:\n            print(\"[ERROR] Withdrawal amount must be positive.\")\n        elif amount > self.balance:\n            print(\"[ERROR] Insufficient balance.\")\n        else:\n            self.balance -= amount\n            print(f\"[SUCCESS] Withdrawn: ${amount:.2f}\")\n\ndef atm_menu():\n    atm = ATM()\n    while True:\n        print(\"\\n====== ATM MENU ======\")\n        print(\"1. Check Balance\")\n        print(\"2. Deposit\")\n        print(\"3. Withdraw\")\n        print(\"4. Exit\")\n        choice = input(\"Select an option (1-4): \")\n\n        if choice == '1':\n            atm.check_balance()\n        elif choice == '2':\n            try:\n                amount = float(input(\"Enter deposit amount: $\"))\n                atm.deposit(amount)\n            except ValueError:\n                print(\"[ERROR] Invalid input. Please enter a numeric value.\")\n        elif choice == '3':\n            try:\n                amount = float(input(\"Enter withdrawal amount: $\"))\n                atm.withdraw(amount)\n            except ValueError:\n                print(\"[ERROR] Invalid input. Please enter a numeric value.\")\n        elif choice == '4':\n            print(\"Thank you for using the ATM. Goodbye!\")\n            break\n        else:\n            print(\"[ERROR] Invalid option. Please choose from 1 to 4.\")\n\nif __name__ == \"__main__\":\n    atm_menu()\n",
      "metadata": {
        "trusted": true
      },
      "outputs": [],
      "execution_count": null
    }
  ]
}