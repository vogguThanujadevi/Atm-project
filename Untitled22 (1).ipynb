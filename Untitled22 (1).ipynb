{
  "metadata": {
    "kernelspec": {
      "name": "python",
      "display_name": "Python (Pyodide)",
      "language": "python"
    },
    "language_info": {
      "codemirror_mode": {
        "name": "python",
        "version": 3
      },
      "file_extension": ".py",
      "mimetype": "text/x-python",
      "name": "python",
      "nbconvert_exporter": "python",
      "pygments_lexer": "ipython3",
      "version": "3.8"
    }
  },
  "nbformat_minor": 5,
  "nbformat": 4,
  "cells": [
    {
      "id": "e998a638-b527-43ac-aaef-14257cc2e32f",
      "cell_type": "code",
      "source": "# ATM Simulation in Python\n\nusers = {\n    \"1234\": {\"name\": \"John Doe\", \"balance\": 1000},\n    \"4321\": {\"name\": \"Jane Smith\", \"balance\": 1500}\n}\n\ndef login():\n    pin = input(\"Enter your 4-digit PIN: \")\n    if pin in users:\n        print(f\"Welcome, {users[pin]['name']}!\")\n        return pin\n    else:\n        print(\"Invalid PIN. Try again.\")\n        return None\n\ndef check_balance(user):\n    print(f\"Your current balance is: ${users[user]['balance']}\")\n\ndef deposit(user):\n    amount = float(input(\"Enter amount to deposit: $\"))\n    users[user]['balance'] += amount\n    print(\"Deposit successful.\")\n    check_balance(user)\n\ndef withdraw(user):\n    amount = float(input(\"Enter amount to withdraw: $\"))\n    if amount <= users[user]['balance']:\n        users[user]['balance'] -= amount\n        print(\"Withdrawal successful.\")\n    else:\n        print(\"Insufficient balance.\")\n    check_balance(user)\n\ndef atm_menu(user):\n    while True:\n        print(\"\\nATM Menu:\")\n        print(\"1. Check Balance\")\n        print(\"2. Deposit Money\")\n        print(\"3. Withdraw Money\")\n        print(\"4. Exit\")\n        choice = input(\"Select an option: \")\n\n        if choice == \"1\":\n            check_balance(user)\n        elif choice == \"2\":\n            deposit(user)\n        elif choice == \"3\":\n            withdraw(user)\n        elif choice == \"4\":\n            print(\"Thank you for using the ATM. Goodbye!\")\n            break\n        else:\n            print(\"Invalid option. Try again.\")\n\n# Main Program\nprint(\"Welcome to the Python ATM!\")\nuser_pin = None\nwhile user_pin is None:\n    user_pin = login()\n\natm_menu(user_pin)\n",
      "metadata": {
        "trusted": true
      },
      "outputs": [],
      "execution_count": null
    }
  ]
}